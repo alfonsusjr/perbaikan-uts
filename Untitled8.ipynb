In [5]: import networkx as nx
import matplotlib.pyplot as plt
G=nx.DiGraph()
G.add_edge('UU NO.15 Tahun 2018','PP No. 56 Tahun 2012')
G.add_edge('UU NO.40 Tahun 2014','PP No. 39 Tahun 2015')
G.add_edge('UU NO.22 Tahun 2007','PP No. 44 Tahun 2009')
G.add_edge('UU NO.7 Tahun 2010' ,'PP No. 20 Tahun 1982')
G.add_edge('UU NO.30 Tahun 1997','PP No. 11 Tahun 1975')
#Alfonsus Jaconias
nx.draw_networkx(G)
plt.axis('off')
plt.show()
# display
